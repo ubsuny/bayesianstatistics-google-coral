{
 "cells": [
  {
   "cell_type": "markdown",
   "id": "enabling-grave",
   "metadata": {},
   "source": [
    " \n",
    "Calculate (using tensorflow and bayesian statistics) the probability of being Covid positive if the weekly pool test shows a positive test result.  \n",
    "\n",
    "---\n",
    "According to Bayes' Theorem:\n",
    "\n",
    "$$\n",
    "P(A|B) = \\frac{P(B|A)P(A)}{P(B)}\n",
    "$$\n",
    "\n",
    "In this case, event A means I'm positive for COVID-19 while B represents my pool test is positive (one or multiple specimens are positive). And the posterior probability P(A|B) is the probability I'm actually infected given that I'm in a positive-tested pool (12 specimens). P(B|A) is called the likelihood function describing evidence B given that A. In this case we can assume that it's one or 100% which means once I'm infected, my pool test must be positive.\n",
    "<!--I'm not sure if I understand this correctly.-->"
   ]
  },
  {
   "cell_type": "markdown",
   "id": "critical-special",
   "metadata": {},
   "source": [
    "## Bayes's Theorem\n",
    "\n",
    "[UB COVID-19 data source](https://www.buffalo.edu/coronavirus/health-and-safety/covid-19-dashboard.html)"
   ]
  },
  {
   "cell_type": "markdown",
   "id": "selected-platform",
   "metadata": {},
   "source": [
    "First we calculate P(A), the positive rate in UB. Here I use the total positive number divided by total population in UB, instead of using the rate anounced by Erie County since we only focus on our campus here."
   ]
  },
  {
   "cell_type": "code",
   "execution_count": 20,
   "id": "unknown-separation",
   "metadata": {},
   "outputs": [],
   "source": [
    "prate = 1012 / (31923 + 6037)"
   ]
  },
  {
   "cell_type": "markdown",
   "id": "valid-casting",
   "metadata": {},
   "source": [
    "Then we need to know P(B|A), and generally the saliva-based testing has a accuracy of 83% which indicates the chances that you're actually tested when you're infected COVID."
   ]
  },
  {
   "cell_type": "code",
   "execution_count": 12,
   "id": "surrounded-spray",
   "metadata": {},
   "outputs": [],
   "source": [
    "accuracy = 0.83"
   ]
  },
  {
   "cell_type": "markdown",
   "id": "inclusive-envelope",
   "metadata": {},
   "source": [
    "Next we need to find out what is P(B), the probability of your pool is positive. This is a typical binomial distribution:\n",
    "\n",
    "$$\n",
    "f(k,n,p) = \\binom{n}{k}p^k(1-p)^{n-k}\n",
    "$$\n",
    "\n",
    "where n is the number of total samples, k is the number of people predicted positive while p is the probability of individual infection."
   ]
  },
  {
   "cell_type": "markdown",
   "id": "expressed-cassette",
   "metadata": {},
   "source": [
    "And we have 12 samples in each pool "
   ]
  },
  {
   "cell_type": "code",
   "execution_count": 44,
   "id": "secret-situation",
   "metadata": {},
   "outputs": [],
   "source": [
    "N = 12"
   ]
  },
  {
   "cell_type": "code",
   "execution_count": 13,
   "id": "atlantic-humor",
   "metadata": {},
   "outputs": [],
   "source": [
    "# first import libraries\n",
    "import math\n",
    "import tensorflow_probability as tfp\n",
    "tfd = tfp.distributions\n",
    "import tf_setCPU"
   ]
  },
  {
   "cell_type": "code",
   "execution_count": 30,
   "id": "advanced-encyclopedia",
   "metadata": {},
   "outputs": [
    {
     "data": {
      "text/plain": [
       "0.02665964172813488"
      ]
     },
     "execution_count": 30,
     "metadata": {},
     "output_type": "execute_result"
    }
   ],
   "source": [
    "prate"
   ]
  },
  {
   "cell_type": "code",
   "execution_count": 60,
   "id": "figured-reserve",
   "metadata": {},
   "outputs": [],
   "source": [
    "# probability of a pool is positive \n",
    "p1 = tfd.Binomial(total_count=N,probs=prate) \n",
    "ppool = 0.\n",
    "\n",
    "for i in range(1,N+1):\n",
    "    ppool += p1.prob(i)*accuracy"
   ]
  },
  {
   "cell_type": "code",
   "execution_count": 61,
   "id": "sought-industry",
   "metadata": {},
   "outputs": [
    {
     "name": "stdout",
     "output_type": "stream",
     "text": [
      "the probability I am positive given my pool is positive is 9.63%\n"
     ]
    }
   ],
   "source": [
    "# from Bayesian\n",
    "Pba = accuracy  # the probability of my test pool is positive if I'm positive\n",
    "Pb = ppool    # the probability of a positive test pool\n",
    "Pa = prate  # the positive rate in UB ()\n",
    "Pab = Pba * Pa / Pb  # the posterior probability\n",
    "print('the probability I am positive given my pool is positive is {0:.2f}%'.format(Pab*100))"
   ]
  },
  {
   "cell_type": "markdown",
   "id": "lasting-governor",
   "metadata": {},
   "source": [
    "---\n",
    "## combination method\n",
    "Here I wanna do it in a funny way as a pure math (probability) problem, that is, if your pool is positive then what is the chance that you're positive. And here we don't consider Bayes' Theorem.\n",
    "#### all possible combinations (given a positive pool):\n",
    "$$\n",
    "\\sum_{i=1}^{12}C^i_{12}\n",
    "$$\n",
    "#### conditional combinations (one individual is already positive):\n",
    "$$\n",
    "\\sum_{i=0}^{11}C^i_{11}\n",
    "$$\n"
   ]
  },
  {
   "cell_type": "code",
   "execution_count": 62,
   "id": "taken-moscow",
   "metadata": {},
   "outputs": [],
   "source": [
    "def f(x):\n",
    "    '''input an integer output its factorial'''\n",
    "    return math.factorial(x)\n",
    "\n",
    "allcomb = 0  # all possibile combinations\n",
    "for i in range(12):\n",
    "    n = i + 1\n",
    "    allcomb += f(12)/(f(n)*f(12-n))\n",
    "\n",
    "condcomb = 0  # combinations where I'm positive\n",
    "for i in range(12):\n",
    "    n = i \n",
    "    condcomb += f(11)/(f(n)*f(11-n))\n",
    "    condcomb += 1"
   ]
  },
  {
   "cell_type": "code",
   "execution_count": 63,
   "id": "eastern-denver",
   "metadata": {},
   "outputs": [
    {
     "name": "stdout",
     "output_type": "stream",
     "text": [
      "the probability I am positive given my pool is positive is 50.31%\n"
     ]
    }
   ],
   "source": [
    "prob = condcomb/allcomb\n",
    "print('the probability I am positive given my pool is positive is {0:.2f}%'.format(prob*100))"
   ]
  },
  {
   "cell_type": "markdown",
   "id": "absent-gather",
   "metadata": {},
   "source": [
    "See ?!  \n",
    "I guess that's the amazing part of the Bayes' Theorem: it proves the accuracy of the probability we get once if we have some belief or experience, instead of naively dividing the possible and conditional combinations."
   ]
  },
  {
   "cell_type": "markdown",
   "id": "norwegian-bobby",
   "metadata": {},
   "source": [
    "An unfortunate coincidence is that when I started this problem, my pool was tested postive. And after I was about to finish this problem, I was informed positive for COVID. Thank god I haven't had any severe symptoms but just minor ones (I think they're just psychological effects). Anyway this would be the most funny also crucial homework I've ever had : )"
   ]
  },
  {
   "cell_type": "code",
   "execution_count": null,
   "id": "sought-postcard",
   "metadata": {},
   "outputs": [],
   "source": []
  }
 ],
 "metadata": {
  "kernelspec": {
   "display_name": "Python 3",
   "language": "python",
   "name": "python3"
  },
  "language_info": {
   "codemirror_mode": {
    "name": "ipython",
    "version": 3
   },
   "file_extension": ".py",
   "mimetype": "text/x-python",
   "name": "python",
   "nbconvert_exporter": "python",
   "pygments_lexer": "ipython3",
   "version": "3.8.5"
  }
 },
 "nbformat": 4,
 "nbformat_minor": 5
}

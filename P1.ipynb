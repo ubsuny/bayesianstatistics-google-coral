{
 "cells": [
  {
   "cell_type": "markdown",
   "id": "about-destination",
   "metadata": {},
   "source": [
    " \n",
    "Calculate (using tensorflow and bayesian statistics) the probability of being Covid positive if the weekly pool test shows a positive test result.  \n",
    "\n",
    "---\n",
    "According to Bayes' Theorem:\n",
    "\n",
    "$$\n",
    "P(A|B) = \\frac{P(B|A)P(A)}{P(B)}\n",
    "$$\n",
    "\n",
    "In this case, event A means I'm positive for COVID-19 while B represents my pool test is positive (one or multiple specimens are positive). And the posterior probability P(A|B) is the probability I'm actually infected given that I'm in a positive-tested pool (12 specimens). P(B|A) is called the likelihood function describing evidence B given that A. In this case we can assume that it's one or 100% which means once I'm infected, my pool test must be positive.\n",
    "<!--I'm not sure if I understand this correctly.-->"
   ]
  },
  {
   "cell_type": "markdown",
   "id": "optional-sellers",
   "metadata": {},
   "source": [
    "## Bayesian probability\n",
    "[data source link](https://www.buffalo.edu/coronavirus/health-and-safety/covid-19-dashboard.html)"
   ]
  },
  {
   "cell_type": "markdown",
   "id": "likely-citizenship",
   "metadata": {},
   "source": [
    "#### using tensorflow distribution\n",
    "Consider 12 samples in one pool, and UB positive rate is 0.38%."
   ]
  },
  {
   "cell_type": "code",
   "execution_count": 8,
   "id": "experienced-sewing",
   "metadata": {},
   "outputs": [],
   "source": [
    "import math\n",
    "import tensorflow_probability as tfp\n",
    "tfd = tfp.distributions\n",
    "import tf_setCPU"
   ]
  },
  {
   "cell_type": "code",
   "execution_count": 71,
   "id": "hungarian-archives",
   "metadata": {},
   "outputs": [
    {
     "data": {
      "text/plain": [
       "<tf.Tensor: shape=(), dtype=float32, numpy=0.08508936>"
      ]
     },
     "execution_count": 71,
     "metadata": {},
     "output_type": "execute_result"
    }
   ],
   "source": [
    "# from Bayesian\n",
    "Pba = 1.0  # the probability of your test pool is positive if you're positive\n",
    "Pb = p1    # the probability of a positive test pool\n",
    "Pa = 0.38/100.  # the positive rate in UB ()\n",
    "Pab = Pba * Pa / Pb  # the posterior probability\n",
    "Pab"
   ]
  },
  {
   "cell_type": "markdown",
   "id": "powerful-sector",
   "metadata": {},
   "source": [
    "**but we don't know Pb !!!**"
   ]
  },
  {
   "cell_type": "markdown",
   "id": "consecutive-marathon",
   "metadata": {},
   "source": [
    "## combination method\n",
    "all possible combinations:\n",
    "$$\n",
    "\\sum_{n=12}^{i}C^i_{12}\n",
    "$$\n",
    "conditional combinations:\n",
    "$$\n",
    "\\sum_{n=11}^{i}C^i_{11}+1\n",
    "$$\n"
   ]
  },
  {
   "cell_type": "code",
   "execution_count": 57,
   "id": "fundamental-atlanta",
   "metadata": {},
   "outputs": [],
   "source": [
    "def f(x):\n",
    "    '''input an integer output its factorial'''\n",
    "    return math.factorial(x)\n",
    "\n",
    "allcomb = 0  # all possibile combinations\n",
    "for i in range(12):\n",
    "    n = i + 1\n",
    "    allcomb += f(12)/(f(n)*f(12-n))\n",
    "\n",
    "condcomb = 0  # combinations where I'm positive\n",
    "for i in range(11):\n",
    "    n = i + 1\n",
    "    condcomb += f(11)/(f(n)*f(11-n))\n",
    "    condcomb += 1"
   ]
  },
  {
   "cell_type": "code",
   "execution_count": 58,
   "id": "hired-aurora",
   "metadata": {},
   "outputs": [
    {
     "name": "stdout",
     "output_type": "stream",
     "text": [
      "the probability I am positive given my pool is positive is 50.26%\n"
     ]
    }
   ],
   "source": [
    "prob = condcomb/allcomb\n",
    "print('the probability I am positive given my pool is positive is {0:.2f}%'.format(prob*100))"
   ]
  },
  {
   "cell_type": "code",
   "execution_count": 61,
   "id": "ethical-palestine",
   "metadata": {},
   "outputs": [],
   "source": [
    "# probability that the pool is positive\n",
    "N = 12\n",
    "r = 0.0038\n",
    "d1 = tfd.Binomial(total_count=N,probs=r) \n",
    "p1 = 0.\n",
    "\n",
    "for i in range(1,N+1):\n",
    "    p1 += d1.prob(i)"
   ]
  },
  {
   "cell_type": "code",
   "execution_count": 64,
   "id": "neutral-lottery",
   "metadata": {},
   "outputs": [],
   "source": [
    "# probability that I am positive\n",
    "d2 = tfd.Binomial(total_count=N-1,probs=r) \n",
    "p2 = 0.\n",
    "\n",
    "for i in range(N):\n",
    "    p2 += d2.prob(i)"
   ]
  },
  {
   "cell_type": "code",
   "execution_count": 69,
   "id": "working-agriculture",
   "metadata": {},
   "outputs": [
    {
     "data": {
      "text/plain": [
       "<tf.Tensor: shape=(), dtype=float32, numpy=0.08508936>"
      ]
     },
     "execution_count": 69,
     "metadata": {},
     "output_type": "execute_result"
    }
   ],
   "source": [
    "0.0038/p1"
   ]
  },
  {
   "cell_type": "code",
   "execution_count": null,
   "id": "about-homework",
   "metadata": {},
   "outputs": [],
   "source": []
  }
 ],
 "metadata": {
  "kernelspec": {
   "display_name": "Python 3",
   "language": "python",
   "name": "python3"
  },
  "language_info": {
   "codemirror_mode": {
    "name": "ipython",
    "version": 3
   },
   "file_extension": ".py",
   "mimetype": "text/x-python",
   "name": "python",
   "nbconvert_exporter": "python",
   "pygments_lexer": "ipython3",
   "version": "3.8.5"
  }
 },
 "nbformat": 4,
 "nbformat_minor": 5
}

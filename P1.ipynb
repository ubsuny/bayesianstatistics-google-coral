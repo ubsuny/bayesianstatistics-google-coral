{
 "cells": [
  {
   "cell_type": "markdown",
   "id": "middle-minimum",
   "metadata": {},
   "source": [
    " \n",
    "Calculate (using tensorflow and bayesian statistics) the probability of being Covid positive if the weekly pool test shows a positive test result.  \n",
    "\n",
    "---\n",
    "According to Bayes' Theorem:\n",
    "\n",
    "$$\n",
    "P(A|B) = \\frac{P(B|A)P(A)}{P(B)}\n",
    "$$\n",
    "\n",
    "In this case, event A means I'm positive for COVID-19 while B represents my pool test is positive (one or multiple specimens are positive). And the posterior probability P(A|B) is the probability I'm actually infected given that I'm in a positive-tested pool (12 specimens). P(B|A) is called the likelihood function describing evidence B given that A. In this case we can assume that it's one or 100% which means once I'm infected, my pool test must be positive.\n",
    "<!--I'm not sure if I understand this correctly.-->"
   ]
  },
  {
   "cell_type": "markdown",
   "id": "contemporary-dynamics",
   "metadata": {},
   "source": [
    "## A random guess\n",
    "[data source link](https://www.buffalo.edu/coronavirus/health-and-safety/covid-19-dashboard.html)"
   ]
  },
  {
   "cell_type": "code",
   "execution_count": 1,
   "id": "bibliographic-census",
   "metadata": {},
   "outputs": [],
   "source": [
    "import math"
   ]
  },
  {
   "cell_type": "code",
   "execution_count": 2,
   "id": "superb-climate",
   "metadata": {},
   "outputs": [],
   "source": [
    "# from Bayesian\n",
    "Pba = 1.0\n",
    "#Pb = \n",
    "Pa = 0.38/100.\n",
    "Pab = Pba * Pa"
   ]
  },
  {
   "cell_type": "code",
   "execution_count": 3,
   "id": "floral-specific",
   "metadata": {},
   "outputs": [
    {
     "name": "stdout",
     "output_type": "stream",
     "text": [
      "0.0038\n"
     ]
    }
   ],
   "source": [
    "print(Pab)"
   ]
  },
  {
   "cell_type": "markdown",
   "id": "better-fifteen",
   "metadata": {},
   "source": [
    "# from probability calculation\n",
    "all possible combinations:\n",
    "$$\n",
    "\\sum_{n=12}^{i}C^i_{12}\n",
    "$$\n",
    "conditional combinations:\n",
    "$$\n",
    "\\sum_{n=11}^{i}C^i_{11}+1\n",
    "$$\n"
   ]
  },
  {
   "cell_type": "code",
   "execution_count": 18,
   "id": "prime-egyptian",
   "metadata": {},
   "outputs": [],
   "source": [
    "def f(x):\n",
    "    return math.factorial(x)\n",
    "\n",
    "allcomb = 0\n",
    "for i in range(12):\n",
    "    n = i + 1\n",
    "    allcomb += f(12)/(f(n)*f(12-n))\n",
    "\n",
    "condcomb = 0\n",
    "for i in range(11):\n",
    "    n = i + 1\n",
    "    condcomb += f(11)/(f(n)*f(11-n))\n",
    "    condcomb += 1"
   ]
  },
  {
   "cell_type": "code",
   "execution_count": 23,
   "id": "macro-arrival",
   "metadata": {},
   "outputs": [
    {
     "name": "stdout",
     "output_type": "stream",
     "text": [
      "the probability I am positive given my pool is positive is 50.2564\n"
     ]
    }
   ],
   "source": [
    "prob = condcomb/allcomb\n",
    "print('the probability I am positive given my pool is positive is {0:.4f}'.format(prob*100))"
   ]
  },
  {
   "cell_type": "code",
   "execution_count": null,
   "id": "disabled-apparatus",
   "metadata": {},
   "outputs": [],
   "source": []
  }
 ],
 "metadata": {
  "kernelspec": {
   "display_name": "Python 3",
   "language": "python",
   "name": "python3"
  },
  "language_info": {
   "codemirror_mode": {
    "name": "ipython",
    "version": 3
   },
   "file_extension": ".py",
   "mimetype": "text/x-python",
   "name": "python",
   "nbconvert_exporter": "python",
   "pygments_lexer": "ipython3",
   "version": "3.8.5"
  }
 },
 "nbformat": 4,
 "nbformat_minor": 5
}

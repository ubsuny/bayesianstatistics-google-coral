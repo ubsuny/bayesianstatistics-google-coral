{
 "cells": [
  {
   "cell_type": "markdown",
   "id": "overhead-bargain",
   "metadata": {},
   "source": [
    " \n",
    "Calculate (using tensorflow and bayesian statistics) the probability of being Covid positive if the weekly pool test shows a positive test result.  \n",
    "\n",
    "---\n",
    "According to Bayes' Theorem:\n",
    "\n",
    "$$\n",
    "P(A|B) = \\frac{P(B|A)P(A)}{P(B)}\n",
    "$$\n",
    "\n",
    "In this case, event A means I'm positive for COVID-19 while B represents my pool test is positive (one or multiple specimens are positive). And the posterior probability P(A|B) is the probability I'm actually infected given that I'm in a positive-tested pool (12 specimens). P(B|A) is called the likelihood function describing evidence B given that A. In this case we can assume that it's one or 100% which means once I'm infected, my pool test must be positive.\n",
    "<!--I'm not sure if I understand this correctly.-->"
   ]
  },
  {
   "cell_type": "markdown",
   "id": "handed-schema",
   "metadata": {},
   "source": [
    "## Bayes's Theorem\n",
    "\n",
    "[UB COVID-19 data source](https://www.buffalo.edu/coronavirus/health-and-safety/covid-19-dashboard.html)"
   ]
  },
  {
   "cell_type": "markdown",
   "id": "immune-george",
   "metadata": {},
   "source": [
    "First we calculate P(A), the positive rate in UB. Here I use the total positive number divided by total population in UB, instead of using the rate anounced by Erie County since we only focus on our campus here."
   ]
  },
  {
   "cell_type": "code",
   "execution_count": 10,
   "id": "authentic-texture",
   "metadata": {},
   "outputs": [],
   "source": [
    "prate = 1012 / (31923 + 6037)"
   ]
  },
  {
   "cell_type": "markdown",
   "id": "awful-richards",
   "metadata": {},
   "source": [
    "Then we need to know P(B|A), and generally the saliva-based testing has a accuracy of 83% which indicates the chances that you're actually tested when you're infected COVID."
   ]
  },
  {
   "cell_type": "code",
   "execution_count": 12,
   "id": "documented-toddler",
   "metadata": {},
   "outputs": [],
   "source": [
    "accuracy = 0.83"
   ]
  },
  {
   "cell_type": "markdown",
   "id": "confused-scientist",
   "metadata": {},
   "source": [
    "Next we need to find out what is P(B), the probability of your pool is positive."
   ]
  },
  {
   "cell_type": "code",
   "execution_count": 13,
   "id": "sacred-bicycle",
   "metadata": {},
   "outputs": [],
   "source": [
    "# first import libraries\n",
    "import math\n",
    "import tensorflow_probability as tfp\n",
    "tfd = tfp.distributions\n",
    "import tf_setCPU"
   ]
  },
  {
   "cell_type": "code",
   "execution_count": 2,
   "id": "featured-framework",
   "metadata": {},
   "outputs": [],
   "source": [
    "# probability that the pool is positive\n",
    "ppool = tfd.Binomial(total_count=N,probs=r) \n",
    "p1 = 0.\n",
    "\n",
    "for i in range(1,N+1):\n",
    "    p1 += d1.prob(i)"
   ]
  },
  {
   "cell_type": "code",
   "execution_count": 3,
   "id": "polish-coupon",
   "metadata": {},
   "outputs": [
    {
     "name": "stdout",
     "output_type": "stream",
     "text": [
      "tf.Tensor(1.0, shape=(), dtype=float32)\n"
     ]
    }
   ],
   "source": [
    "# likelihood (the probability of my pool is positive if I'm positive)\n",
    "d2 = tfd.Binomial(total_count=N-1,probs=prate) \n",
    "p2 = 0.\n",
    "\n",
    "for i in range(0,N):\n",
    "    p2 += d1.prob(i)\n",
    "print(p2)   # of course it should be 1"
   ]
  },
  {
   "cell_type": "code",
   "execution_count": 4,
   "id": "mobile-alexander",
   "metadata": {},
   "outputs": [
    {
     "name": "stdout",
     "output_type": "stream",
     "text": [
      "the probability I am positive given my pool is positive is 8.51%\n"
     ]
    }
   ],
   "source": [
    "# from Bayesian\n",
    "Pba = 1.0  # the probability of my test pool is positive if I'm positive\n",
    "Pb = p1    # the probability of a positive test pool\n",
    "Pa = 0.38/100.  # the positive rate in UB ()\n",
    "Pab = Pba * Pa / Pb  # the posterior probability\n",
    "print('the probability I am positive given my pool is positive is {0:.2f}%'.format(Pab*100))"
   ]
  },
  {
   "cell_type": "markdown",
   "id": "optional-recording",
   "metadata": {},
   "source": [
    "## combination method\n",
    "all possible combinations:\n",
    "$$\n",
    "\\sum_{i=1}^{12}C^i_{12}\n",
    "$$\n",
    "conditional combinations:\n",
    "$$\n",
    "\\sum_{i=0}^{11}C^i_{11}\n",
    "$$\n"
   ]
  },
  {
   "cell_type": "code",
   "execution_count": 5,
   "id": "valued-european",
   "metadata": {},
   "outputs": [],
   "source": [
    "def f(x):\n",
    "    '''input an integer output its factorial'''\n",
    "    return math.factorial(x)\n",
    "\n",
    "allcomb = 0  # all possibile combinations\n",
    "for i in range(12):\n",
    "    n = i + 1\n",
    "    allcomb += f(12)/(f(n)*f(12-n))\n",
    "\n",
    "condcomb = 0  # combinations where I'm positive\n",
    "for i in range(12):\n",
    "    n = i \n",
    "    condcomb += f(11)/(f(n)*f(11-n))\n",
    "    condcomb += 1"
   ]
  },
  {
   "cell_type": "code",
   "execution_count": 6,
   "id": "conscious-greene",
   "metadata": {},
   "outputs": [
    {
     "name": "stdout",
     "output_type": "stream",
     "text": [
      "the probability I am positive given my pool is positive is 50.31%\n"
     ]
    }
   ],
   "source": [
    "prob = condcomb/allcomb\n",
    "print('the probability I am positive given my pool is positive is {0:.2f}%'.format(prob*100))"
   ]
  },
  {
   "cell_type": "code",
   "execution_count": null,
   "id": "sorted-ethics",
   "metadata": {},
   "outputs": [],
   "source": []
  }
 ],
 "metadata": {
  "kernelspec": {
   "display_name": "Python 3",
   "language": "python",
   "name": "python3"
  },
  "language_info": {
   "codemirror_mode": {
    "name": "ipython",
    "version": 3
   },
   "file_extension": ".py",
   "mimetype": "text/x-python",
   "name": "python",
   "nbconvert_exporter": "python",
   "pygments_lexer": "ipython3",
   "version": "3.8.5"
  }
 },
 "nbformat": 4,
 "nbformat_minor": 5
}
